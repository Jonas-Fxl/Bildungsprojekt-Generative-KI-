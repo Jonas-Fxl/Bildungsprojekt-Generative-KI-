{
 "cells": [
  {
   "cell_type": "code",
   "id": "initial_id",
   "metadata": {
    "collapsed": true,
    "ExecuteTime": {
     "end_time": "2024-06-11T11:45:26.820792Z",
     "start_time": "2024-06-11T11:45:26.799042Z"
    }
   },
   "source": [
    "import pandas as pd\n",
    "import numpy as np\n",
    "import tensorflow as tf\n",
    "from tensorflow.keras.preprocessing.text import Tokenizer\n",
    "from tensorflow.keras.preprocessing.sequence import pad_sequences"
   ],
   "outputs": [],
   "execution_count": 37
  },
  {
   "metadata": {
    "ExecuteTime": {
     "end_time": "2024-06-11T11:45:27.001882Z",
     "start_time": "2024-06-11T11:45:26.831026Z"
    }
   },
   "cell_type": "code",
   "source": "data = pd.read_csv('../Data/Shakespeare_data.csv')",
   "id": "a1ed704de600617a",
   "outputs": [],
   "execution_count": 38
  },
  {
   "metadata": {
    "ExecuteTime": {
     "end_time": "2024-06-11T11:45:27.018183Z",
     "start_time": "2024-06-11T11:45:27.003197Z"
    }
   },
   "cell_type": "code",
   "source": "data.head()",
   "id": "a39cf1cbb412c44a",
   "outputs": [
    {
     "data": {
      "text/plain": [
       "   Dataline      Play  PlayerLinenumber ActSceneLine         Player  \\\n",
       "0         1  Henry IV               NaN          NaN            NaN   \n",
       "1         2  Henry IV               NaN          NaN            NaN   \n",
       "2         3  Henry IV               NaN          NaN            NaN   \n",
       "3         4  Henry IV               1.0        1.1.1  KING HENRY IV   \n",
       "4         5  Henry IV               1.0        1.1.2  KING HENRY IV   \n",
       "\n",
       "                                          PlayerLine  \n",
       "0                                              ACT I  \n",
       "1                       SCENE I. London. The palace.  \n",
       "2  Enter KING HENRY, LORD JOHN OF LANCASTER, the ...  \n",
       "3             So shaken as we are, so wan with care,  \n",
       "4         Find we a time for frighted peace to pant,  "
      ],
      "text/html": [
       "<div>\n",
       "<style scoped>\n",
       "    .dataframe tbody tr th:only-of-type {\n",
       "        vertical-align: middle;\n",
       "    }\n",
       "\n",
       "    .dataframe tbody tr th {\n",
       "        vertical-align: top;\n",
       "    }\n",
       "\n",
       "    .dataframe thead th {\n",
       "        text-align: right;\n",
       "    }\n",
       "</style>\n",
       "<table border=\"1\" class=\"dataframe\">\n",
       "  <thead>\n",
       "    <tr style=\"text-align: right;\">\n",
       "      <th></th>\n",
       "      <th>Dataline</th>\n",
       "      <th>Play</th>\n",
       "      <th>PlayerLinenumber</th>\n",
       "      <th>ActSceneLine</th>\n",
       "      <th>Player</th>\n",
       "      <th>PlayerLine</th>\n",
       "    </tr>\n",
       "  </thead>\n",
       "  <tbody>\n",
       "    <tr>\n",
       "      <th>0</th>\n",
       "      <td>1</td>\n",
       "      <td>Henry IV</td>\n",
       "      <td>NaN</td>\n",
       "      <td>NaN</td>\n",
       "      <td>NaN</td>\n",
       "      <td>ACT I</td>\n",
       "    </tr>\n",
       "    <tr>\n",
       "      <th>1</th>\n",
       "      <td>2</td>\n",
       "      <td>Henry IV</td>\n",
       "      <td>NaN</td>\n",
       "      <td>NaN</td>\n",
       "      <td>NaN</td>\n",
       "      <td>SCENE I. London. The palace.</td>\n",
       "    </tr>\n",
       "    <tr>\n",
       "      <th>2</th>\n",
       "      <td>3</td>\n",
       "      <td>Henry IV</td>\n",
       "      <td>NaN</td>\n",
       "      <td>NaN</td>\n",
       "      <td>NaN</td>\n",
       "      <td>Enter KING HENRY, LORD JOHN OF LANCASTER, the ...</td>\n",
       "    </tr>\n",
       "    <tr>\n",
       "      <th>3</th>\n",
       "      <td>4</td>\n",
       "      <td>Henry IV</td>\n",
       "      <td>1.0</td>\n",
       "      <td>1.1.1</td>\n",
       "      <td>KING HENRY IV</td>\n",
       "      <td>So shaken as we are, so wan with care,</td>\n",
       "    </tr>\n",
       "    <tr>\n",
       "      <th>4</th>\n",
       "      <td>5</td>\n",
       "      <td>Henry IV</td>\n",
       "      <td>1.0</td>\n",
       "      <td>1.1.2</td>\n",
       "      <td>KING HENRY IV</td>\n",
       "      <td>Find we a time for frighted peace to pant,</td>\n",
       "    </tr>\n",
       "  </tbody>\n",
       "</table>\n",
       "</div>"
      ]
     },
     "execution_count": 39,
     "metadata": {},
     "output_type": "execute_result"
    }
   ],
   "execution_count": 39
  },
  {
   "metadata": {
    "ExecuteTime": {
     "end_time": "2024-06-11T11:45:27.132158Z",
     "start_time": "2024-06-11T11:45:27.019102Z"
    }
   },
   "cell_type": "code",
   "source": [
    "strategy = tf.distribute.MirroredStrategy()\n",
    "#Nutzt die GPU"
   ],
   "id": "c13912fc1aff8f15",
   "outputs": [
    {
     "name": "stdout",
     "output_type": "stream",
     "text": [
      "INFO:tensorflow:Using MirroredStrategy with devices ('/job:localhost/replica:0/task:0/device:CPU:0',)\n"
     ]
    }
   ],
   "execution_count": 40
  },
  {
   "metadata": {},
   "cell_type": "markdown",
   "source": "Nachzulesen hier: https://www.tensorflow.org/api_docs/python/tf/distribute/MirroredStrategy",
   "id": "ff196d9b0aaf9b99"
  },
  {
   "metadata": {},
   "cell_type": "markdown",
   "source": [
    "# Manipulation der Daten\n",
    "- Wir brauchen nur die Spalte *\"PlayerLine\"*\n",
    "- Am besten machen wir alles Lower oder Upper Case\n",
    "\n",
    "## Diskussion\n",
    "- Ersetzten von I mit 1, II mit 2 usw.?\n",
    "    - Hat das einen Effekt auf den output oder ist das Irrelevant? "
   ],
   "id": "5d2ab67214aed4c4"
  },
  {
   "metadata": {
    "ExecuteTime": {
     "end_time": "2024-06-11T11:45:27.180403Z",
     "start_time": "2024-06-11T11:45:27.143392Z"
    }
   },
   "cell_type": "code",
   "source": [
    "training_data = data['PlayerLine'].str.lower()\n",
    "training_data.head()"
   ],
   "id": "3e9929980ba58283",
   "outputs": [
    {
     "data": {
      "text/plain": [
       "0                                                act i\n",
       "1                         scene i. london. the palace.\n",
       "2    enter king henry, lord john of lancaster, the ...\n",
       "3               so shaken as we are, so wan with care,\n",
       "4           find we a time for frighted peace to pant,\n",
       "Name: PlayerLine, dtype: object"
      ]
     },
     "execution_count": 41,
     "metadata": {},
     "output_type": "execute_result"
    }
   ],
   "execution_count": 41
  },
  {
   "metadata": {},
   "cell_type": "markdown",
   "source": "# Tokenizer",
   "id": "6cb658645a8c0cbc"
  },
  {
   "metadata": {
    "ExecuteTime": {
     "end_time": "2024-06-11T11:45:29.369092Z",
     "start_time": "2024-06-11T11:45:27.183056Z"
    }
   },
   "cell_type": "code",
   "source": [
    "#Tokenizer erstellen und fitten\n",
    "tokenizer = Tokenizer()\n",
    "tokenizer.fit_on_texts(data['PlayerLine'])\n",
    "\n",
    "#Wörter in Integer umwandeln\n",
    "sequences = tokenizer.texts_to_sequences(data['PlayerLine'])\n",
    "\n",
    "#Maximale länge bestimmen (Wichtig für die Layers!!!)\n",
    "max_sequence_length = max(len(seq) for seq in sequences)\n",
    "\n",
    "#Mit hilfe von 0 alle sequenzen auf die selbe lenge bringen\n",
    "sequences = pad_sequences(sequences, maxlen=max_sequence_length, padding='post')\n",
    "\n",
    "vocab_size = len(tokenizer.word_index) + 1\n",
    "\n",
    "print(sequences[:3])"
   ],
   "id": "8b4289e2f3dc6737",
   "outputs": [
    {
     "name": "stdout",
     "output_type": "stream",
     "text": [
      "[[ 315    3    0    0    0    0    0    0    0    0    0    0    0    0\n",
      "     0    0    0    0    0    0    0    0    0    0    0    0    0    0\n",
      "     0    0    0    0    0    0    0    0    0    0    0    0    0    0\n",
      "     0    0    0    0    0    0    0    0    0    0    0    0    0    0\n",
      "     0    0    0    0    0    0    0    0    0    0    0    0    0    0\n",
      "     0    0    0    0    0    0    0    0    0    0    0    0    0    0\n",
      "     0    0    0    0    0    0    0    0    0    0    0    0    0    0\n",
      "     0    0    0    0    0    0    0    0    0    0    0    0    0    0\n",
      "     0    0    0    0    0    0    0    0    0    0    0    0    0    0\n",
      "     0    0    0    0    0    0    0    0    0    0    0    0    0    0\n",
      "     0    0    0    0    0    0    0    0    0    0    0    0    0    0\n",
      "     0    0    0    0    0    0    0    0    0    0    0    0    0]\n",
      " [ 135    3  802    1  571    0    0    0    0    0    0    0    0    0\n",
      "     0    0    0    0    0    0    0    0    0    0    0    0    0    0\n",
      "     0    0    0    0    0    0    0    0    0    0    0    0    0    0\n",
      "     0    0    0    0    0    0    0    0    0    0    0    0    0    0\n",
      "     0    0    0    0    0    0    0    0    0    0    0    0    0    0\n",
      "     0    0    0    0    0    0    0    0    0    0    0    0    0    0\n",
      "     0    0    0    0    0    0    0    0    0    0    0    0    0    0\n",
      "     0    0    0    0    0    0    0    0    0    0    0    0    0    0\n",
      "     0    0    0    0    0    0    0    0    0    0    0    0    0    0\n",
      "     0    0    0    0    0    0    0    0    0    0    0    0    0    0\n",
      "     0    0    0    0    0    0    0    0    0    0    0    0    0    0\n",
      "     0    0    0    0    0    0    0    0    0    0    0    0    0]\n",
      " [  51   88  338   45  397    5 1199    1  879    5 2367   47 3079 1629\n",
      "     2  509    0    0    0    0    0    0    0    0    0    0    0    0\n",
      "     0    0    0    0    0    0    0    0    0    0    0    0    0    0\n",
      "     0    0    0    0    0    0    0    0    0    0    0    0    0    0\n",
      "     0    0    0    0    0    0    0    0    0    0    0    0    0    0\n",
      "     0    0    0    0    0    0    0    0    0    0    0    0    0    0\n",
      "     0    0    0    0    0    0    0    0    0    0    0    0    0    0\n",
      "     0    0    0    0    0    0    0    0    0    0    0    0    0    0\n",
      "     0    0    0    0    0    0    0    0    0    0    0    0    0    0\n",
      "     0    0    0    0    0    0    0    0    0    0    0    0    0    0\n",
      "     0    0    0    0    0    0    0    0    0    0    0    0    0    0\n",
      "     0    0    0    0    0    0    0    0    0    0    0    0    0]]\n"
     ]
    }
   ],
   "execution_count": 42
  },
  {
   "metadata": {
    "ExecuteTime": {
     "end_time": "2024-06-11T11:45:29.373267Z",
     "start_time": "2024-06-11T11:45:29.370444Z"
    }
   },
   "cell_type": "code",
   "source": [
    "total_words_sum = len(tokenizer.word_index)+1\n",
    "print(total_words_sum)"
   ],
   "id": "63a2f2cbd5581418",
   "outputs": [
    {
     "name": "stdout",
     "output_type": "stream",
     "text": [
      "25576\n"
     ]
    }
   ],
   "execution_count": 43
  },
  {
   "metadata": {
    "ExecuteTime": {
     "end_time": "2024-06-11T11:45:29.386294Z",
     "start_time": "2024-06-11T11:45:29.374481Z"
    }
   },
   "cell_type": "code",
   "source": [
    "max_seq_len = max(len(x) for x in sequences)\n",
    "print(max_seq_len)"
   ],
   "id": "3396be6a71d7931a",
   "outputs": [
    {
     "name": "stdout",
     "output_type": "stream",
     "text": [
      "167\n"
     ]
    }
   ],
   "execution_count": 44
  },
  {
   "metadata": {},
   "cell_type": "markdown",
   "source": "# Modell",
   "id": "7d349a1ed0be00b"
  },
  {
   "metadata": {
    "ExecuteTime": {
     "end_time": "2024-06-11T11:45:29.391896Z",
     "start_time": "2024-06-11T11:45:29.387391Z"
    }
   },
   "cell_type": "code",
   "source": [
    "#TODO: Testen, strucktur mit LSTM überdenken\n",
    "from keras.src.layers import Bidirectional\n",
    "from tensorflow.keras.models import Sequential\n",
    "from tensorflow.keras.layers import Dense, LSTM, GRU\n",
    "\n",
    "def generator_model():\n",
    "    model = Sequential()\n",
    "    model.add(Embedding(total_words_sum, 100, input_length = max_seq_len-1)),\n",
    "    model.add(Bidirectional(LSTM(64, return_sequences = True))),\n",
    "    model.add(Bidirectional(LSTM(32))),\n",
    "    model.add(Dense(64, activation = 'relu')),\n",
    "    model.add(Dense(total_words_sum, activation = 'softmax'))\n",
    "    return model"
   ],
   "id": "8d1bf5e385a2ac55",
   "outputs": [],
   "execution_count": 45
  },
  {
   "metadata": {},
   "cell_type": "markdown",
   "source": "# Discriminator",
   "id": "7e9be189c27e4cc6"
  },
  {
   "metadata": {
    "ExecuteTime": {
     "end_time": "2024-06-11T11:45:29.394358Z",
     "start_time": "2024-06-11T11:45:29.392923Z"
    }
   },
   "cell_type": "code",
   "source": "#TODO",
   "id": "5e78b034a07a6e83",
   "outputs": [],
   "execution_count": 46
  },
  {
   "metadata": {},
   "cell_type": "markdown",
   "source": "# Training",
   "id": "c33c952b581ab888"
  },
  {
   "metadata": {
    "ExecuteTime": {
     "end_time": "2024-06-11T11:45:29.397793Z",
     "start_time": "2024-06-11T11:45:29.396217Z"
    }
   },
   "cell_type": "code",
   "source": "#TODO",
   "id": "ffcefbcc5d872405",
   "outputs": [],
   "execution_count": 47
  },
  {
   "metadata": {
    "ExecuteTime": {
     "end_time": "2024-06-11T11:45:29.399635Z",
     "start_time": "2024-06-11T11:45:29.398458Z"
    }
   },
   "cell_type": "code",
   "source": "",
   "id": "593410071c363013",
   "outputs": [],
   "execution_count": 47
  }
 ],
 "metadata": {
  "kernelspec": {
   "display_name": "Python 3",
   "language": "python",
   "name": "python3"
  },
  "language_info": {
   "codemirror_mode": {
    "name": "ipython",
    "version": 2
   },
   "file_extension": ".py",
   "mimetype": "text/x-python",
   "name": "python",
   "nbconvert_exporter": "python",
   "pygments_lexer": "ipython2",
   "version": "2.7.6"
  }
 },
 "nbformat": 4,
 "nbformat_minor": 5
}
