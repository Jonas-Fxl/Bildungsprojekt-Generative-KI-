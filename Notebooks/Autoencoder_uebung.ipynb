{
 "cells": [
  {
   "cell_type": "code",
   "id": "initial_id",
   "metadata": {
    "collapsed": true,
    "ExecuteTime": {
     "end_time": "2024-07-08T13:42:54.468369Z",
     "start_time": "2024-07-08T13:42:53.177372Z"
    }
   },
   "source": [
    "#!pip install tensorflow\n",
    "from tensorflow import keras"
   ],
   "outputs": [
    {
     "name": "stdout",
     "output_type": "stream",
     "text": [
      "Requirement already satisfied: tensorflow in /Users/jonas/PycharmProjects/DLML_Shakespear/.venv/lib/python3.12/site-packages (2.16.1)\r\n",
      "Requirement already satisfied: absl-py>=1.0.0 in /Users/jonas/PycharmProjects/DLML_Shakespear/.venv/lib/python3.12/site-packages (from tensorflow) (2.1.0)\r\n",
      "Requirement already satisfied: astunparse>=1.6.0 in /Users/jonas/PycharmProjects/DLML_Shakespear/.venv/lib/python3.12/site-packages (from tensorflow) (1.6.3)\r\n",
      "Requirement already satisfied: flatbuffers>=23.5.26 in /Users/jonas/PycharmProjects/DLML_Shakespear/.venv/lib/python3.12/site-packages (from tensorflow) (24.3.25)\r\n",
      "Requirement already satisfied: gast!=0.5.0,!=0.5.1,!=0.5.2,>=0.2.1 in /Users/jonas/PycharmProjects/DLML_Shakespear/.venv/lib/python3.12/site-packages (from tensorflow) (0.5.4)\r\n",
      "Requirement already satisfied: google-pasta>=0.1.1 in /Users/jonas/PycharmProjects/DLML_Shakespear/.venv/lib/python3.12/site-packages (from tensorflow) (0.2.0)\r\n",
      "Requirement already satisfied: h5py>=3.10.0 in /Users/jonas/PycharmProjects/DLML_Shakespear/.venv/lib/python3.12/site-packages (from tensorflow) (3.11.0)\r\n",
      "Requirement already satisfied: libclang>=13.0.0 in /Users/jonas/PycharmProjects/DLML_Shakespear/.venv/lib/python3.12/site-packages (from tensorflow) (18.1.1)\r\n",
      "Requirement already satisfied: ml-dtypes~=0.3.1 in /Users/jonas/PycharmProjects/DLML_Shakespear/.venv/lib/python3.12/site-packages (from tensorflow) (0.3.2)\r\n",
      "Requirement already satisfied: opt-einsum>=2.3.2 in /Users/jonas/PycharmProjects/DLML_Shakespear/.venv/lib/python3.12/site-packages (from tensorflow) (3.3.0)\r\n",
      "Requirement already satisfied: packaging in /Users/jonas/PycharmProjects/DLML_Shakespear/.venv/lib/python3.12/site-packages (from tensorflow) (24.0)\r\n",
      "Requirement already satisfied: protobuf!=4.21.0,!=4.21.1,!=4.21.2,!=4.21.3,!=4.21.4,!=4.21.5,<5.0.0dev,>=3.20.3 in /Users/jonas/PycharmProjects/DLML_Shakespear/.venv/lib/python3.12/site-packages (from tensorflow) (4.25.3)\r\n",
      "Requirement already satisfied: requests<3,>=2.21.0 in /Users/jonas/PycharmProjects/DLML_Shakespear/.venv/lib/python3.12/site-packages (from tensorflow) (2.32.3)\r\n",
      "Requirement already satisfied: setuptools in /Users/jonas/PycharmProjects/DLML_Shakespear/.venv/lib/python3.12/site-packages (from tensorflow) (70.0.0)\r\n",
      "Requirement already satisfied: six>=1.12.0 in /Users/jonas/PycharmProjects/DLML_Shakespear/.venv/lib/python3.12/site-packages (from tensorflow) (1.16.0)\r\n",
      "Requirement already satisfied: termcolor>=1.1.0 in /Users/jonas/PycharmProjects/DLML_Shakespear/.venv/lib/python3.12/site-packages (from tensorflow) (2.4.0)\r\n",
      "Requirement already satisfied: typing-extensions>=3.6.6 in /Users/jonas/PycharmProjects/DLML_Shakespear/.venv/lib/python3.12/site-packages (from tensorflow) (4.12.1)\r\n",
      "Requirement already satisfied: wrapt>=1.11.0 in /Users/jonas/PycharmProjects/DLML_Shakespear/.venv/lib/python3.12/site-packages (from tensorflow) (1.16.0)\r\n",
      "Requirement already satisfied: grpcio<2.0,>=1.24.3 in /Users/jonas/PycharmProjects/DLML_Shakespear/.venv/lib/python3.12/site-packages (from tensorflow) (1.64.1)\r\n",
      "Requirement already satisfied: tensorboard<2.17,>=2.16 in /Users/jonas/PycharmProjects/DLML_Shakespear/.venv/lib/python3.12/site-packages (from tensorflow) (2.16.2)\r\n",
      "Requirement already satisfied: keras>=3.0.0 in /Users/jonas/PycharmProjects/DLML_Shakespear/.venv/lib/python3.12/site-packages (from tensorflow) (3.3.3)\r\n",
      "Requirement already satisfied: numpy<2.0.0,>=1.26.0 in /Users/jonas/PycharmProjects/DLML_Shakespear/.venv/lib/python3.12/site-packages (from tensorflow) (1.26.4)\r\n",
      "Requirement already satisfied: wheel<1.0,>=0.23.0 in /Users/jonas/PycharmProjects/DLML_Shakespear/.venv/lib/python3.12/site-packages (from astunparse>=1.6.0->tensorflow) (0.43.0)\r\n",
      "Requirement already satisfied: rich in /Users/jonas/PycharmProjects/DLML_Shakespear/.venv/lib/python3.12/site-packages (from keras>=3.0.0->tensorflow) (13.7.1)\r\n",
      "Requirement already satisfied: namex in /Users/jonas/PycharmProjects/DLML_Shakespear/.venv/lib/python3.12/site-packages (from keras>=3.0.0->tensorflow) (0.0.8)\r\n",
      "Requirement already satisfied: optree in /Users/jonas/PycharmProjects/DLML_Shakespear/.venv/lib/python3.12/site-packages (from keras>=3.0.0->tensorflow) (0.11.0)\r\n",
      "Requirement already satisfied: charset-normalizer<4,>=2 in /Users/jonas/PycharmProjects/DLML_Shakespear/.venv/lib/python3.12/site-packages (from requests<3,>=2.21.0->tensorflow) (3.3.2)\r\n",
      "Requirement already satisfied: idna<4,>=2.5 in /Users/jonas/PycharmProjects/DLML_Shakespear/.venv/lib/python3.12/site-packages (from requests<3,>=2.21.0->tensorflow) (3.7)\r\n",
      "Requirement already satisfied: urllib3<3,>=1.21.1 in /Users/jonas/PycharmProjects/DLML_Shakespear/.venv/lib/python3.12/site-packages (from requests<3,>=2.21.0->tensorflow) (2.2.1)\r\n",
      "Requirement already satisfied: certifi>=2017.4.17 in /Users/jonas/PycharmProjects/DLML_Shakespear/.venv/lib/python3.12/site-packages (from requests<3,>=2.21.0->tensorflow) (2024.6.2)\r\n",
      "Requirement already satisfied: markdown>=2.6.8 in /Users/jonas/PycharmProjects/DLML_Shakespear/.venv/lib/python3.12/site-packages (from tensorboard<2.17,>=2.16->tensorflow) (3.6)\r\n",
      "Requirement already satisfied: tensorboard-data-server<0.8.0,>=0.7.0 in /Users/jonas/PycharmProjects/DLML_Shakespear/.venv/lib/python3.12/site-packages (from tensorboard<2.17,>=2.16->tensorflow) (0.7.2)\r\n",
      "Requirement already satisfied: werkzeug>=1.0.1 in /Users/jonas/PycharmProjects/DLML_Shakespear/.venv/lib/python3.12/site-packages (from tensorboard<2.17,>=2.16->tensorflow) (3.0.3)\r\n",
      "Requirement already satisfied: MarkupSafe>=2.1.1 in /Users/jonas/PycharmProjects/DLML_Shakespear/.venv/lib/python3.12/site-packages (from werkzeug>=1.0.1->tensorboard<2.17,>=2.16->tensorflow) (2.1.5)\r\n",
      "Requirement already satisfied: markdown-it-py>=2.2.0 in /Users/jonas/PycharmProjects/DLML_Shakespear/.venv/lib/python3.12/site-packages (from rich->keras>=3.0.0->tensorflow) (3.0.0)\r\n",
      "Requirement already satisfied: pygments<3.0.0,>=2.13.0 in /Users/jonas/PycharmProjects/DLML_Shakespear/.venv/lib/python3.12/site-packages (from rich->keras>=3.0.0->tensorflow) (2.18.0)\r\n",
      "Requirement already satisfied: mdurl~=0.1 in /Users/jonas/PycharmProjects/DLML_Shakespear/.venv/lib/python3.12/site-packages (from markdown-it-py>=2.2.0->rich->keras>=3.0.0->tensorflow) (0.1.2)\r\n",
      "\r\n",
      "\u001B[1m[\u001B[0m\u001B[34;49mnotice\u001B[0m\u001B[1;39;49m]\u001B[0m\u001B[39;49m A new release of pip is available: \u001B[0m\u001B[31;49m24.1\u001B[0m\u001B[39;49m -> \u001B[0m\u001B[32;49m24.1.1\u001B[0m\r\n",
      "\u001B[1m[\u001B[0m\u001B[34;49mnotice\u001B[0m\u001B[1;39;49m]\u001B[0m\u001B[39;49m To update, run: \u001B[0m\u001B[32;49mpip install --upgrade pip\u001B[0m\r\n"
     ]
    }
   ],
   "execution_count": 2
  },
  {
   "metadata": {
    "ExecuteTime": {
     "end_time": "2024-07-08T13:40:04.760499Z",
     "start_time": "2024-07-08T13:40:04.554348Z"
    }
   },
   "cell_type": "code",
   "source": [
    "(x_train, _), (x_test, _) = keras.datasets.mnist.load_data()\n",
    "x_train = x_train / 255\n",
    "x_test = x_test / 255"
   ],
   "id": "208c87fb317f1ff5",
   "outputs": [],
   "execution_count": 3
  },
  {
   "metadata": {
    "ExecuteTime": {
     "end_time": "2024-07-08T13:40:05.475765Z",
     "start_time": "2024-07-08T13:40:05.453886Z"
    }
   },
   "cell_type": "code",
   "source": [
    "encoder = keras.models.Sequential([\n",
    "    keras.layers.Flatten(input_shape=[28, 28]),\n",
    "    keras.layers.Dense(__, activation=\"relu\"),\n",
    "    keras.layers.Dense(__, activation=\"relu\"),\n",
    "])"
   ],
   "id": "b6e62eea2474c8d9",
   "outputs": [
    {
     "name": "stderr",
     "output_type": "stream",
     "text": [
      "/Users/jonas/PycharmProjects/DLML_Shakespear/.venv/lib/python3.12/site-packages/keras/src/layers/reshaping/flatten.py:37: UserWarning: Do not pass an `input_shape`/`input_dim` argument to a layer. When using Sequential models, prefer using an `Input(shape)` object as the first layer in the model instead.\n",
      "  super().__init__(**kwargs)\n"
     ]
    }
   ],
   "execution_count": 7
  },
  {
   "metadata": {
    "ExecuteTime": {
     "end_time": "2024-07-08T13:40:05.491565Z",
     "start_time": "2024-07-08T13:40:05.477482Z"
    }
   },
   "cell_type": "code",
   "source": [
    "decoder = keras.models.Sequential([\n",
    "    keras.layers.Dense(__, activation=\"relu\", input_shape=[__]),\n",
    "    keras.layers.Dense(28*28, activation=\"sigmoid\"),\n",
    "    keras.layers.Reshape((28,28))\n",
    "])"
   ],
   "id": "b381cbf342d3415e",
   "outputs": [
    {
     "name": "stderr",
     "output_type": "stream",
     "text": [
      "/Users/jonas/PycharmProjects/DLML_Shakespear/.venv/lib/python3.12/site-packages/keras/src/layers/core/dense.py:87: UserWarning: Do not pass an `input_shape`/`input_dim` argument to a layer. When using Sequential models, prefer using an `Input(shape)` object as the first layer in the model instead.\n",
      "  super().__init__(activity_regularizer=activity_regularizer, **kwargs)\n"
     ]
    }
   ],
   "execution_count": 8
  },
  {
   "metadata": {
    "ExecuteTime": {
     "end_time": "2024-07-08T13:40:05.497034Z",
     "start_time": "2024-07-08T13:40:05.493416Z"
    }
   },
   "cell_type": "code",
   "source": "stacked_autoencoder = keras.models.Sequential([encoder, decoder])",
   "id": "c31a128d24c2b1f",
   "outputs": [],
   "execution_count": 9
  },
  {
   "metadata": {
    "ExecuteTime": {
     "end_time": "2024-07-08T13:40:05.506611Z",
     "start_time": "2024-07-08T13:40:05.500699Z"
    }
   },
   "cell_type": "code",
   "source": [
    "stacked_autoencoder.compile(loss=\"binary_crossentropy\",\n",
    "                   optimizer='adam')"
   ],
   "id": "aab2ca92345e97c5",
   "outputs": [],
   "execution_count": 10
  },
  {
   "metadata": {
    "ExecuteTime": {
     "end_time": "2024-07-08T13:40:38.636636Z",
     "start_time": "2024-07-08T13:40:05.512868Z"
    }
   },
   "cell_type": "code",
   "source": "history = stacked_autoencoder.fit(x_train, x_train, epochs = 10, validation_data=[x_test, x_test])",
   "id": "950cd3c15ec7c56f",
   "outputs": [
    {
     "name": "stdout",
     "output_type": "stream",
     "text": [
      "Epoch 1/10\n",
      "\u001B[1m1875/1875\u001B[0m \u001B[32m━━━━━━━━━━━━━━━━━━━━\u001B[0m\u001B[37m\u001B[0m \u001B[1m4s\u001B[0m 2ms/step - loss: 0.2170 - val_loss: 0.1358\n",
      "Epoch 2/10\n",
      "\u001B[1m1875/1875\u001B[0m \u001B[32m━━━━━━━━━━━━━━━━━━━━\u001B[0m\u001B[37m\u001B[0m \u001B[1m3s\u001B[0m 2ms/step - loss: 0.1354 - val_loss: 0.1280\n",
      "Epoch 3/10\n",
      "\u001B[1m1875/1875\u001B[0m \u001B[32m━━━━━━━━━━━━━━━━━━━━\u001B[0m\u001B[37m\u001B[0m \u001B[1m3s\u001B[0m 2ms/step - loss: 0.1285 - val_loss: 0.1239\n",
      "Epoch 4/10\n",
      "\u001B[1m1875/1875\u001B[0m \u001B[32m━━━━━━━━━━━━━━━━━━━━\u001B[0m\u001B[37m\u001B[0m \u001B[1m3s\u001B[0m 2ms/step - loss: 0.1247 - val_loss: 0.1216\n",
      "Epoch 5/10\n",
      "\u001B[1m1875/1875\u001B[0m \u001B[32m━━━━━━━━━━━━━━━━━━━━\u001B[0m\u001B[37m\u001B[0m \u001B[1m3s\u001B[0m 2ms/step - loss: 0.1223 - val_loss: 0.1198\n",
      "Epoch 6/10\n",
      "\u001B[1m1875/1875\u001B[0m \u001B[32m━━━━━━━━━━━━━━━━━━━━\u001B[0m\u001B[37m\u001B[0m \u001B[1m3s\u001B[0m 2ms/step - loss: 0.1206 - val_loss: 0.1189\n",
      "Epoch 7/10\n",
      "\u001B[1m1875/1875\u001B[0m \u001B[32m━━━━━━━━━━━━━━━━━━━━\u001B[0m\u001B[37m\u001B[0m \u001B[1m3s\u001B[0m 2ms/step - loss: 0.1194 - val_loss: 0.1180\n",
      "Epoch 8/10\n",
      "\u001B[1m1875/1875\u001B[0m \u001B[32m━━━━━━━━━━━━━━━━━━━━\u001B[0m\u001B[37m\u001B[0m \u001B[1m3s\u001B[0m 2ms/step - loss: 0.1184 - val_loss: 0.1170\n",
      "Epoch 9/10\n",
      "\u001B[1m1875/1875\u001B[0m \u001B[32m━━━━━━━━━━━━━━━━━━━━\u001B[0m\u001B[37m\u001B[0m \u001B[1m3s\u001B[0m 2ms/step - loss: 0.1175 - val_loss: 0.1165\n",
      "Epoch 10/10\n",
      "\u001B[1m1875/1875\u001B[0m \u001B[32m━━━━━━━━━━━━━━━━━━━━\u001B[0m\u001B[37m\u001B[0m \u001B[1m3s\u001B[0m 2ms/step - loss: 0.1170 - val_loss: 0.1160\n",
      "\n"
     ]
    }
   ],
   "execution_count": 11
  },
  {
   "metadata": {
    "ExecuteTime": {
     "end_time": "2024-07-08T13:40:39.605417Z",
     "start_time": "2024-07-08T13:40:38.994975Z"
    }
   },
   "cell_type": "code",
   "source": [
    "from matplotlib.pyplot import subplot, imshow\n",
    "from IPython.core.pylabtools import figsize\n",
    "\n",
    "figsize(20, 5)\n",
    "for i in range(8):\n",
    "  subplot(2, 8, i+1)\n",
    "  pred = stacked_autoencoder.predict(x_test[i].reshape((1, 28, 28)))\n",
    "  imshow(x_test[i], cmap=\"binary\")\n",
    "\n",
    "  subplot(2, 8, i+8+1)\n",
    "  imshow(pred.reshape((28, 28)), cmap=\"binary\")"
   ],
   "id": "6f7aeb9a3fcc53ee",
   "outputs": [
    {
     "name": "stdout",
     "output_type": "stream",
     "text": [
      "\u001B[1m1/1\u001B[0m \u001B[32m━━━━━━━━━━━━━━━━━━━━\u001B[0m\u001B[37m\u001B[0m \u001B[1m0s\u001B[0m 49ms/step\n",
      "\u001B[1m1/1\u001B[0m \u001B[32m━━━━━━━━━━━━━━━━━━━━\u001B[0m\u001B[37m\u001B[0m \u001B[1m0s\u001B[0m 9ms/step\n",
      "\u001B[1m1/1\u001B[0m \u001B[32m━━━━━━━━━━━━━━━━━━━━\u001B[0m\u001B[37m\u001B[0m \u001B[1m0s\u001B[0m 8ms/step\n",
      "\u001B[1m1/1\u001B[0m \u001B[32m━━━━━━━━━━━━━━━━━━━━\u001B[0m\u001B[37m\u001B[0m \u001B[1m0s\u001B[0m 8ms/step\n",
      "\u001B[1m1/1\u001B[0m \u001B[32m━━━━━━━━━━━━━━━━━━━━\u001B[0m\u001B[37m\u001B[0m \u001B[1m0s\u001B[0m 7ms/step\n",
      "\u001B[1m1/1\u001B[0m \u001B[32m━━━━━━━━━━━━━━━━━━━━\u001B[0m\u001B[37m\u001B[0m \u001B[1m0s\u001B[0m 7ms/step\n",
      "\u001B[1m1/1\u001B[0m \u001B[32m━━━━━━━━━━━━━━━━━━━━\u001B[0m\u001B[37m\u001B[0m \u001B[1m0s\u001B[0m 7ms/step\n",
      "\u001B[1m1/1\u001B[0m \u001B[32m━━━━━━━━━━━━━━━━━━━━\u001B[0m\u001B[37m\u001B[0m \u001B[1m0s\u001B[0m 7ms/step\n"
     ]
    },
    {
     "data": {
      "text/plain": [
       "<Figure size 2000x500 with 16 Axes>"
      ],
      "image/png": "[encoded data removed]"
     },
     "metadata": {},
     "output_type": "display_data"
    }
   ],
   "execution_count": 13
  },
  {
   "metadata": {
    "ExecuteTime": {
     "end_time": "2024-07-08T13:40:39.607541Z",
     "start_time": "2024-07-08T13:40:39.606201Z"
    }
   },
   "cell_type": "code",
   "source": "",
   "id": "17d1de81f11a36bb",
   "outputs": [],
   "execution_count": 13
  }
 ],
 "metadata": {
  "kernelspec": {
   "display_name": "Python 3",
   "language": "python",
   "name": "python3"
  },
  "language_info": {
   "codemirror_mode": {
    "name": "ipython",
    "version": 2
   },
   "file_extension": ".py",
   "mimetype": "text/x-python",
   "name": "python",
   "nbconvert_exporter": "python",
   "pygments_lexer": "ipython2",
   "version": "2.7.6"
  }
 },
 "nbformat": 4,
 "nbformat_minor": 5
}
